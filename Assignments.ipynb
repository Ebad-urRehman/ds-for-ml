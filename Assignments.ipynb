{
 "cells": [
  {
   "cell_type": "code",
   "execution_count": 3,
   "id": "8c6f2b55-723f-4bb9-b9bc-d44ffea24258",
   "metadata": {},
   "outputs": [],
   "source": [
    "import pandas as pd\n",
    "import numpy as np\n",
    "import matplotlib.pyplot as plt\n",
    "import seaborn"
   ]
  },
  {
   "cell_type": "code",
   "execution_count": 4,
   "id": "7f3b4d03-ccf9-43a6-818c-4ce14d90d972",
   "metadata": {},
   "outputs": [
    {
     "name": "stdout",
     "output_type": "stream",
     "text": [
      "[[6 3 6]\n",
      " [5 6 7]\n",
      " [7 8 3]]\n",
      "8\n",
      "3\n"
     ]
    }
   ],
   "source": [
    "matrix = np.random.randint(0, 9, (3, 3))\n",
    "print(matrix)\n",
    "print(np.max(matrix))\n",
    "print(np.min(matrix))"
   ]
  },
  {
   "cell_type": "markdown",
   "id": "4313189e-fc9f-48fb-8e63-fa0a44aaa119",
   "metadata": {},
   "source": [
    "# Assignment 2\n",
    "\n",
    "Questions for this assignment\n",
    "Write a NumPy function that accepts two 1-D arrays of equal length and returns a new array containing the product of the corresponding elements in the input arrays."
   ]
  },
  {
   "cell_type": "code",
   "execution_count": 6,
   "id": "a1617b09-ac3e-4429-be90-2488c85e8641",
   "metadata": {},
   "outputs": [
    {
     "name": "stdout",
     "output_type": "stream",
     "text": [
      "[ 4 10 18]\n"
     ]
    }
   ],
   "source": [
    "def nump_func(arr1, arr2):\n",
    "    if arr1.size != arr2.size:\n",
    "        return false\n",
    "    else:\n",
    "        return np.multiply(arr1, arr2)\n",
    "\n",
    "arr1 = np.array([1,2,3])\n",
    "arr2 = np.array([4,5,6])\n",
    "arr3 = nump_func(arr1, arr2)\n",
    "print(arr3)"
   ]
  },
  {
   "cell_type": "markdown",
   "id": "5bc0eb4d-8727-491c-a0c4-d0c9e2cf7374",
   "metadata": {},
   "source": [
    "# Assignment 3\n",
    "\n",
    "Questions for this assignment\n",
    "Write a NumPy program that creates a 5x5 identity matrix and replaces the diagonal elements with random integers between 0 and 9."
   ]
  },
  {
   "cell_type": "code",
   "execution_count": 7,
   "id": "bf1504ef-4aeb-48f5-88d7-5576d64eb37e",
   "metadata": {},
   "outputs": [
    {
     "name": "stdout",
     "output_type": "stream",
     "text": [
      "[[0. 0. 0. 0. 0.]\n",
      " [0. 5. 0. 0. 0.]\n",
      " [0. 0. 0. 0. 0.]\n",
      " [0. 0. 0. 7. 0.]\n",
      " [0. 0. 0. 0. 9.]]\n"
     ]
    }
   ],
   "source": [
    "identity_matrix = np.eye(5)\n",
    "\n",
    "rand_diagonal = np.random.randint(0, 10, size=5)\n",
    "\n",
    "np.fill_diagonal(identity_matrix, rand_diagonal)\n",
    "print(identity_matrix)"
   ]
  },
  {
   "cell_type": "markdown",
   "id": "7cd78af1-061e-4223-bbbd-60e7d08f594f",
   "metadata": {},
   "source": [
    "# Assignment 4\n",
    "Write a Matplotlib program that creates a scatter plot of a set of data points with x and y coordinates stored in two NumPy arrays."
   ]
  },
  {
   "cell_type": "code",
   "execution_count": 10,
   "id": "d1678105-16d2-4b39-bbcc-c87f66c834f0",
   "metadata": {},
   "outputs": [
    {
     "data": {
      "text/plain": [
       "<matplotlib.collections.PathCollection at 0x1ed22767230>"
      ]
     },
     "execution_count": 10,
     "metadata": {},
     "output_type": "execute_result"
    },
    {
     "data": {
      "image/png": "[encoded data removed]",
      "text/plain": [
       "<Figure size 640x480 with 1 Axes>"
      ]
     },
     "metadata": {},
     "output_type": "display_data"
    }
   ],
   "source": [
    "x_axis = np.array([1,2,3,4])\n",
    "y_axis = np.array([1,2,3,4])\n",
    "\n",
    "plt.scatter(x_axis,y_axis)"
   ]
  },
  {
   "cell_type": "markdown",
   "id": "79f23ae8-711f-4747-bb8f-35cc98e99d84",
   "metadata": {},
   "source": [
    "# Assignment 5\n",
    "Try solving on your own !!\n",
    "\n",
    "Questions for this assignment\n",
    "Write a NumPy program that reads a CSV file containing data about a group of students (ID, name, grade) and computes the average grade for each student.\n",
    "\n",
    "Create the CSV file with the following data :\n",
    "\n",
    "ID,Name,Grade\n",
    "1,Alice,90\n",
    "2,Bob,85\n",
    "3,Charlie,75\n",
    "4,Dave,95\n",
    "5,Eve,80"
   ]
  },
  {
   "cell_type": "code",
   "execution_count": 22,
   "id": "8e1cdd49-ce35-4b08-88b8-55d56f974938",
   "metadata": {},
   "outputs": [
    {
     "name": "stdout",
     "output_type": "stream",
     "text": [
      "85.0\n"
     ]
    }
   ],
   "source": [
    "data = np.genfromtxt('assignment.csv', delimiter=\",\", dtype=None, names=True, encoding='utf-8')\n",
    "# extracting grades column to find avg grades\n",
    "grades = data['Grade']\n",
    "avg_graders = np.mean(grades)\n",
    "print(avg_graders)"
   ]
  },
  {
   "cell_type": "code",
   "execution_count": null,
   "id": "2b37f22c-167f-4ef8-83ab-cefee679b85a",
   "metadata": {},
   "outputs": [],
   "source": []
  }
 ],
 "metadata": {
  "kernelspec": {
   "display_name": "Python 3 (ipykernel)",
   "language": "python",
   "name": "python3"
  },
  "language_info": {
   "codemirror_mode": {
    "name": "ipython",
    "version": 3
   },
   "file_extension": ".py",
   "mimetype": "text/x-python",
   "name": "python",
   "nbconvert_exporter": "python",
   "pygments_lexer": "ipython3",
   "version": "3.12.3"
  }
 },
 "nbformat": 4,
 "nbformat_minor": 5
}
