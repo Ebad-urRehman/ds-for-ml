{
 "cells": [
  {
   "cell_type": "code",
   "execution_count": 1,
   "id": "fe7a3a53-419c-4eeb-82cd-58cd5fda8a24",
   "metadata": {},
   "outputs": [],
   "source": [
    "import numpy as np"
   ]
  },
  {
   "cell_type": "code",
   "execution_count": 13,
   "id": "395af2bb-aac8-42e5-9381-6e7c4b2a5ae7",
   "metadata": {},
   "outputs": [],
   "source": [
    "array = np.array([1, 3, 2, 4])"
   ]
  },
  {
   "cell_type": "code",
   "execution_count": 21,
   "id": "4d330f4e-8ef6-44ad-af03-f13cb10a22b9",
   "metadata": {},
   "outputs": [
    {
     "name": "stdout",
     "output_type": "stream",
     "text": [
      "[1 3 2 4]\n",
      "[1 2 3 4]\n",
      "[1 3]\n",
      "[3 2 4]\n",
      "[1 3 2 4]\n"
     ]
    }
   ],
   "source": [
    "print(array)\n",
    "print(np.sort(array))\n",
    "print(array[0:2])\n",
    "print(array[1:])\n",
    "print(array[:4])"
   ]
  },
  {
   "cell_type": "code",
   "execution_count": 5,
   "id": "87d8717a-ba9c-492c-b98f-a527ccd98154",
   "metadata": {},
   "outputs": [
    {
     "name": "stdout",
     "output_type": "stream",
     "text": [
      "[0 1 2 3 4]\n"
     ]
    }
   ],
   "source": [
    "arr = np.arange(5)\n",
    "print(arr)\n",
    "# np.zeros zero array"
   ]
  },
  {
   "cell_type": "code",
   "execution_count": 43,
   "id": "d7be0511-3c44-4f1e-ad7c-9934db241817",
   "metadata": {},
   "outputs": [
    {
     "name": "stdout",
     "output_type": "stream",
     "text": [
      "[2.  2.5 3.  3.5 4.  4.5]\n",
      "[-1.  -0.5  0.   0.5]\n",
      "[ 4.          4.78571429  5.57142857  6.35714286  7.14285714  7.92857143\n",
      "  8.71428571  9.5        10.28571429 11.07142857 11.85714286 12.64285714\n",
      " 13.42857143 14.21428571 15.        ]\n"
     ]
    }
   ],
   "source": [
    "arr = np.arange(2, 5, 0.5)# (start, end, step) end not included\n",
    "print(arr)\n",
    "arr1 = np.arange(-1, 1, 0.5)\n",
    "print(arr1)\n",
    "\n",
    "# evenly space items\n",
    "x = np.linspace(4, 15, 15) # (start, stop(included) ,no of evenly sapced items)\n",
    "print(x)"
   ]
  },
  {
   "cell_type": "code",
   "execution_count": 8,
   "id": "b8fa718d-6195-4a4c-b583-2375d4784a33",
   "metadata": {},
   "outputs": [
    {
     "name": "stdout",
     "output_type": "stream",
     "text": [
      "2.0\n",
      "2.5\n",
      "3.0\n",
      "3.5\n",
      "4.0\n",
      "4.5\n"
     ]
    }
   ],
   "source": [
    "for items in arr:\n",
    "    print(items)"
   ]
  },
  {
   "cell_type": "code",
   "execution_count": 9,
   "id": "91e2cd70-fee4-4492-84dc-d7eb7277cbd5",
   "metadata": {},
   "outputs": [
    {
     "data": {
      "text/plain": [
       "5"
      ]
     },
     "execution_count": 9,
     "metadata": {},
     "output_type": "execute_result"
    }
   ],
   "source": [
    "np.random.randint(2,10)"
   ]
  },
  {
   "cell_type": "code",
   "execution_count": 10,
   "id": "db91966f-9eda-41dd-92ee-3d85402a8d8d",
   "metadata": {},
   "outputs": [
    {
     "name": "stdout",
     "output_type": "stream",
     "text": [
      "1.26.4\n"
     ]
    }
   ],
   "source": [
    "print(np.__version__)#checking numpy version"
   ]
  },
  {
   "cell_type": "code",
   "execution_count": 49,
   "id": "14b2b44e-c483-42d8-98ea-89769f4fc2cb",
   "metadata": {},
   "outputs": [
    {
     "name": "stdout",
     "output_type": "stream",
     "text": [
      "[16 49 49 ... 64 49  9]\n",
      "2000000\n",
      "[[0.09076589 0.4371511  0.95871283 0.28249999 0.89491609]]\n"
     ]
    }
   ],
   "source": [
    "# numpy can use to increase memory efficiency\n",
    "sample = np.random.randint(2,10, 2000000) # start, stop, quantity\n",
    "sq_list = np.power(sample, 2)\n",
    "print(sq_list)\n",
    "print(len(sq_list))\n",
    "\n",
    "\n",
    "# numpy can use rand function which means creating random values between zero and one\n",
    "random_list = np.random.rand(1,5) # 1x5 matrix of random numbers (rows, columsn\n",
    "print(random_list)"
   ]
  },
  {
   "cell_type": "markdown",
   "id": "5c2278f9-84a7-4b9a-ac03-bd6f8458b87b",
   "metadata": {},
   "source": [
    "# Dimensions"
   ]
  },
  {
   "cell_type": "code",
   "execution_count": 18,
   "id": "02e035c2-87e2-4d87-8420-3f19068b61cb",
   "metadata": {},
   "outputs": [
    {
     "name": "stdout",
     "output_type": "stream",
     "text": [
      "<class 'numpy.ndarray'>\n"
     ]
    }
   ],
   "source": [
    "arr = np.array([1, 2, 3])\n",
    "print(type(array))"
   ]
  },
  {
   "cell_type": "code",
   "execution_count": 14,
   "id": "04ca90cc-1620-4aff-93e1-c49444bb0f9c",
   "metadata": {},
   "outputs": [
    {
     "name": "stdout",
     "output_type": "stream",
     "text": [
      "0 1 2\n",
      "1 [1 2] [[1 2]\n",
      " [3 4]]\n"
     ]
    }
   ],
   "source": [
    "# finding dimensions\n",
    "a = np.array(1) # zero dimension\n",
    "b = np.array([1, 2])\n",
    "c = np.array([[1, 2], [3, 4]])\n",
    "print(a.ndim, b.ndim, c.ndim)\n",
    "print(a, b, c)"
   ]
  },
  {
   "cell_type": "code",
   "execution_count": 34,
   "id": "c3aad7ce-4785-4bb4-98a7-b0f767a8bd2a",
   "metadata": {},
   "outputs": [
    {
     "name": "stdout",
     "output_type": "stream",
     "text": [
      "[1 2]\n",
      "[3 4]\n"
     ]
    }
   ],
   "source": [
    "# displaying 2D array using loops\n",
    "arr = np.array([[1, 2], [3, 4]])\n",
    "for x in arr:\n",
    "    print(x)\n"
   ]
  },
  {
   "cell_type": "code",
   "execution_count": 20,
   "id": "77a56ade-335d-423a-b591-638b1b205baf",
   "metadata": {},
   "outputs": [
    {
     "name": "stdout",
     "output_type": "stream",
     "text": [
      "3 [[[1 2 3]\n",
      "  [7 8 9]]\n",
      "\n",
      " [[4 5 6]\n",
      "  [1 2 3]]]\n"
     ]
    }
   ],
   "source": [
    "    three_dimension = np.array([[[1, 2, 3], [7, 8, 9]], [[4, 5,6], [1, 2,3]]])\n",
    "print(three_dimension.ndim, three_dimension)"
   ]
  },
  {
   "cell_type": "markdown",
   "id": "2a9f83da-3392-47f9-af15-30db7004483c",
   "metadata": {},
   "source": [
    "# Array by specifying Dimension"
   ]
  },
  {
   "cell_type": "code",
   "execution_count": 24,
   "id": "d750933a-d396-4a56-9834-4500c1286b1d",
   "metadata": {},
   "outputs": [
    {
     "name": "stdout",
     "output_type": "stream",
     "text": [
      "[[[[[1 2 3]]]]] 5\n"
     ]
    }
   ],
   "source": [
    "arr = np.array([1, 2, 3], ndmin=5)\n",
    "print(arr, arr.ndim)"
   ]
  },
  {
   "cell_type": "markdown",
   "id": "dacc6648-717d-48c3-ac07-a9eeeb8a4b2d",
   "metadata": {},
   "source": [
    "# *Shapes* "
   ]
  },
  {
   "cell_type": "code",
   "execution_count": 34,
   "id": "55c822d9-dfbb-4304-8870-3cb3bd1ecad9",
   "metadata": {},
   "outputs": [
    {
     "name": "stdout",
     "output_type": "stream",
     "text": [
      "[[1 2 3]\n",
      " [3 4 5]] (2, 3)\n"
     ]
    }
   ],
   "source": [
    "arr_shape = np.array([[1, 2, 3], [3, 4, 5]])\n",
    "print(arr_shape, arr_shape.shape) # (no of columns, no of rows)"
   ]
  },
  {
   "cell_type": "code",
   "execution_count": 35,
   "id": "581729ac-ba11-4809-9a74-dbcba5db9557",
   "metadata": {},
   "outputs": [
    {
     "name": "stdout",
     "output_type": "stream",
     "text": [
      "[[1 2]\n",
      " [3 3]\n",
      " [4 5]] (3, 2)\n"
     ]
    }
   ],
   "source": [
    "arr_shape.shape = (3, 2)\n",
    "print(arr_shape, arr_shape.shape)"
   ]
  },
  {
   "cell_type": "code",
   "execution_count": 37,
   "id": "8ffc1a07-206d-4172-8675-c8daa298f73c",
   "metadata": {},
   "outputs": [
    {
     "name": "stdout",
     "output_type": "stream",
     "text": [
      "[[[1 2]\n",
      "  [3 7]\n",
      "  [8 9]]\n",
      "\n",
      " [[4 5]\n",
      "  [6 1]\n",
      "  [2 3]]]\n"
     ]
    }
   ],
   "source": [
    "arr = np.array([[[1, 2, 3], [7, 8, 9]], [[4, 5,6], [1, 2,3]]])\n",
    "reshaped_array = arr.reshape(2, 3, 2) #(dimensions, rows, columns)\n",
    "print(reshaped_array)\n",
    "# 4x3 = 12\n",
    "# 2x6 = 12 \n",
    "# we can reshape an array from 4x3 to 2x6"
   ]
  },
  {
   "cell_type": "markdown",
   "id": "24856b47-db02-4a1a-807e-29f2c207a997",
   "metadata": {},
   "source": [
    "# Make multidimensional 1 dimensional"
   ]
  },
  {
   "cell_type": "code",
   "execution_count": 38,
   "id": "811d3b05-6e3f-4a35-8e01-4c8ba2ff94e2",
   "metadata": {},
   "outputs": [
    {
     "name": "stdout",
     "output_type": "stream",
     "text": [
      "[1 2 3 7 8 9 4 5 6 1 2 3]\n"
     ]
    }
   ],
   "source": [
    "arr = np.array([[[1, 2, 3], [7, 8, 9]], [[4, 5,6], [1, 2,3]]])\n",
    "one_dim_arr = arr.reshape(-1)\n",
    "print(one_dim_arr)"
   ]
  },
  {
   "cell_type": "markdown",
   "id": "e9c08068-2b0e-4065-bebb-bdc678a06468",
   "metadata": {},
   "source": [
    "# Size"
   ]
  },
  {
   "cell_type": "code",
   "execution_count": 40,
   "id": "beeddf41-a14b-4f17-8dfe-be7306153803",
   "metadata": {},
   "outputs": [
    {
     "name": "stdout",
     "output_type": "stream",
     "text": [
      "int32\n"
     ]
    },
    {
     "data": {
      "text/plain": [
       "4"
      ]
     },
     "execution_count": 40,
     "metadata": {},
     "output_type": "execute_result"
    }
   ],
   "source": [
    "arr = np.array([1, 2, 3, 4, 5])\n",
    "print(arr.dtype)\n",
    "arr.itemsize"
   ]
  },
  {
   "cell_type": "code",
   "execution_count": 44,
   "id": "09b77e0c-20a2-463e-9b7f-0ed645a7b009",
   "metadata": {},
   "outputs": [
    {
     "name": "stdout",
     "output_type": "stream",
     "text": [
      "int16\n",
      "2\n",
      "5\n"
     ]
    }
   ],
   "source": [
    "arr = np.array([1, 2, 3, 4, 5], dtype='int16')\n",
    "print(arr.dtype)\n",
    "print(arr.itemsize) # size of one element in bytes int16\n",
    "print(arr.size) # no of elements in array"
   ]
  },
  {
   "cell_type": "code",
   "execution_count": 46,
   "id": "1dbcf1e7-e200-456c-8875-89ce15449838",
   "metadata": {},
   "outputs": [
    {
     "name": "stdout",
     "output_type": "stream",
     "text": [
      "complex128\n",
      "16\n",
      "5\n",
      "[1.+0.j 2.+0.j 3.+0.j 4.+0.j 5.+0.j]\n"
     ]
    }
   ],
   "source": [
    "arr = np.array([1, 2, 3, 4, 5], dtype=complex)\n",
    "print(arr.dtype)\n",
    "print(arr.itemsize)\n",
    "print(arr.size)\n",
    "print(arr)"
   ]
  },
  {
   "cell_type": "markdown",
   "id": "733882a0-aa62-4221-8fd9-e5569703f51d",
   "metadata": {},
   "source": [
    "# Type conversion"
   ]
  },
  {
   "cell_type": "code",
   "execution_count": null,
   "id": "d5f5f0e8-2bb7-417d-985d-35056850bda8",
   "metadata": {},
   "outputs": [],
   "source": [
    "arr = np.array([1.1, 10.2, 11.3])\n",
    "conv = arr.astype('i')\n",
    "print(conv)"
   ]
  },
  {
   "cell_type": "code",
   "execution_count": 14,
   "id": "e408aecf-e704-4e67-a76a-350392bb9f67",
   "metadata": {},
   "outputs": [
    {
     "ename": "ModuleNotFoundError",
     "evalue": "No module named 'matplotlib'",
     "output_type": "error",
     "traceback": [
      "\u001b[1;31m---------------------------------------------------------------------------\u001b[0m",
      "\u001b[1;31mModuleNotFoundError\u001b[0m                       Traceback (most recent call last)",
      "Cell \u001b[1;32mIn[14], line 2\u001b[0m\n\u001b[0;32m      1\u001b[0m \u001b[38;5;28;01mimport\u001b[39;00m \u001b[38;5;21;01mnumpy\u001b[39;00m \u001b[38;5;28;01mas\u001b[39;00m \u001b[38;5;21;01mnp\u001b[39;00m\n\u001b[1;32m----> 2\u001b[0m \u001b[38;5;28;01mimport\u001b[39;00m \u001b[38;5;21;01mmatplotlib\u001b[39;00m\u001b[38;5;21;01m.\u001b[39;00m\u001b[38;5;21;01mpyplot\u001b[39;00m \u001b[38;5;28;01mas\u001b[39;00m \u001b[38;5;21;01mplt\u001b[39;00m\n\u001b[0;32m      4\u001b[0m \u001b[38;5;66;03m# Create a 2D NumPy array\u001b[39;00m\n\u001b[0;32m      5\u001b[0m data \u001b[38;5;241m=\u001b[39m np\u001b[38;5;241m.\u001b[39mrandom\u001b[38;5;241m.\u001b[39mrand(\u001b[38;5;241m10\u001b[39m, \u001b[38;5;241m10\u001b[39m)\n",
      "\u001b[1;31mModuleNotFoundError\u001b[0m: No module named 'matplotlib'"
     ]
    }
   ],
   "source": []
  },
  {
   "cell_type": "code",
   "execution_count": 32,
   "id": "a2944657-4528-4eb5-8839-0d7de2696449",
   "metadata": {},
   "outputs": [
    {
     "name": "stdout",
     "output_type": "stream",
     "text": [
      "Requirement already satisfied: matplotlib in c:\\users\\ebad-ur-rehman\\appdata\\roaming\\python\\python311\\site-packages (3.8.4)\n",
      "Requirement already satisfied: contourpy>=1.0.1 in c:\\users\\ebad-ur-rehman\\appdata\\roaming\\python\\python311\\site-packages (from matplotlib) (1.2.1)\n",
      "Requirement already satisfied: cycler>=0.10 in c:\\users\\ebad-ur-rehman\\appdata\\roaming\\python\\python311\\site-packages (from matplotlib) (0.12.1)\n",
      "Requirement already satisfied: fonttools>=4.22.0 in c:\\python311\\lib\\site-packages (from matplotlib) (4.51.0)\n",
      "Requirement already satisfied: kiwisolver>=1.3.1 in c:\\python311\\lib\\site-packages (from matplotlib) (1.4.5)\n",
      "Requirement already satisfied: numpy>=1.21 in c:\\tools\\manim\\lib\\site-packages (from matplotlib) (1.26.4)\n",
      "Requirement already satisfied: packaging>=20.0 in c:\\python311\\lib\\site-packages (from matplotlib) (24.0)\n",
      "Requirement already satisfied: pillow>=8 in c:\\tools\\manim\\lib\\site-packages (from matplotlib) (9.5.0)\n",
      "Requirement already satisfied: pyparsing>=2.3.1 in c:\\python311\\lib\\site-packages (from matplotlib) (3.1.2)\n",
      "Requirement already satisfied: python-dateutil>=2.7 in c:\\python311\\lib\\site-packages (from matplotlib) (2.9.0.post0)\n",
      "Requirement already satisfied: six>=1.5 in c:\\python311\\lib\\site-packages (from python-dateutil>=2.7->matplotlib) (1.16.0)\n"
     ]
    }
   ],
   "source": [
    "!pip3 install matplotlib"
   ]
  },
  {
   "cell_type": "code",
   "execution_count": 31,
   "id": "f4b7c0a2-647f-4ddc-b408-d442c72017ca",
   "metadata": {},
   "outputs": [
    {
     "ename": "ModuleNotFoundError",
     "evalue": "No module named 'matplotlib'",
     "output_type": "error",
     "traceback": [
      "\u001b[1;31m---------------------------------------------------------------------------\u001b[0m",
      "\u001b[1;31mModuleNotFoundError\u001b[0m                       Traceback (most recent call last)",
      "Cell \u001b[1;32mIn[31], line 2\u001b[0m\n\u001b[0;32m      1\u001b[0m \u001b[38;5;28;01mimport\u001b[39;00m \u001b[38;5;21;01mnumpy\u001b[39;00m \u001b[38;5;28;01mas\u001b[39;00m \u001b[38;5;21;01mnp\u001b[39;00m\n\u001b[1;32m----> 2\u001b[0m \u001b[38;5;28;01mimport\u001b[39;00m \u001b[38;5;21;01mmatplotlib\u001b[39;00m\u001b[38;5;21;01m.\u001b[39;00m\u001b[38;5;21;01mpyplot\u001b[39;00m \u001b[38;5;28;01mas\u001b[39;00m \u001b[38;5;21;01mplt\u001b[39;00m\n\u001b[0;32m      4\u001b[0m \u001b[38;5;66;03m# Create a 2D NumPy array\u001b[39;00m\n\u001b[0;32m      5\u001b[0m data \u001b[38;5;241m=\u001b[39m np\u001b[38;5;241m.\u001b[39mrandom\u001b[38;5;241m.\u001b[39mrand(\u001b[38;5;241m10\u001b[39m, \u001b[38;5;241m10\u001b[39m)\n",
      "\u001b[1;31mModuleNotFoundError\u001b[0m: No module named 'matplotlib'"
     ]
    }
   ],
   "source": [
    "import numpy as np\n",
    "import matplotlib.pyplot as plt\n",
    "\n",
    "# Create a 2D NumPy array\n",
    "data = np.random.rand(10, 10)\n",
    "\n",
    "# Plot the 2D NumPy array\n",
    "plt.imshow(data, cmap='viridis')  # cmap sets the color map\n",
    "plt.colorbar()  # Add color bar indicating the scale\n",
    "plt.xlabel('X-axis label')\n",
    "plt.ylabel('Y-axis label')\n",
    "plt.title('Title of the Plot')\n",
    "plt.show()"
   ]
  },
  {
   "cell_type": "markdown",
   "id": "48afaa44-12fa-482c-9b73-e64ddc371de5",
   "metadata": {},
   "source": [
    "# Mathematical operations on array"
   ]
  },
  {
   "cell_type": "code",
   "execution_count": 24,
   "id": "df4160b0-d357-4918-b517-853a91896274",
   "metadata": {},
   "outputs": [
    {
     "name": "stdout",
     "output_type": "stream",
     "text": [
      "[ 6  7  8  9 10]\n"
     ]
    }
   ],
   "source": [
    "arr = np.array([1, 2, 3 , 4, 5])\n",
    "print(arr + 5)\n",
    "# any mathematical operation on array results in similiar operation with all elements in array"
   ]
  },
  {
   "cell_type": "markdown",
   "id": "7ed77ed4-a62e-480c-aa11-3b537797b972",
   "metadata": {},
   "source": [
    "# searching"
   ]
  },
  {
   "cell_type": "code",
   "execution_count": 25,
   "id": "27431f04-4269-4bea-acf0-3693bb5f4cdf",
   "metadata": {},
   "outputs": [
    {
     "name": "stdout",
     "output_type": "stream",
     "text": [
      "(array([3, 5, 6], dtype=int64),)\n"
     ]
    }
   ],
   "source": [
    "arr = np.array([1, 2, 3 , 4, 5, 4, 4])\n",
    "x = np.where(arr == 4)\n",
    "print(x)\n",
    "# np.where returns another list of indices where a special value find"
   ]
  },
  {
   "cell_type": "markdown",
   "id": "4a4aa26b-9fac-4f7e-92fb-09105c10ceb0",
   "metadata": {},
   "source": [
    "# indcies where values are even"
   ]
  },
  {
   "cell_type": "code",
   "execution_count": 27,
   "id": "5c8e1342-a904-4104-834e-ea569f60a3d4",
   "metadata": {},
   "outputs": [
    {
     "name": "stdout",
     "output_type": "stream",
     "text": [
      "(array([1, 3, 5, 6], dtype=int64),)\n"
     ]
    }
   ],
   "source": [
    "arr = np.array([1, 2, 3 , 4, 5, 4, 4])\n",
    "x = np.where(arr%2 == 0)\n",
    "print(x)"
   ]
  },
  {
   "cell_type": "markdown",
   "id": "e4c816a7-91c1-45e4-b4e4-5842bfd0a644",
   "metadata": {},
   "source": [
    "# Other operations"
   ]
  },
  {
   "cell_type": "code",
   "execution_count": 30,
   "id": "6d37eac6-02df-4b9d-8f37-d58550341606",
   "metadata": {},
   "outputs": [
    {
     "name": "stdout",
     "output_type": "stream",
     "text": [
      "[1 3]\n"
     ]
    }
   ],
   "source": [
    "# filtering by using an boolean index list\n",
    "arr = np.array([1,2,3,4])\n",
    "bool = np.array([True, False, True, False])\n",
    "x = arr[bool] # by doing this elments corresponding with true are displayed in resultant array only\n",
    "print(x)"
   ]
  },
  {
   "cell_type": "code",
   "execution_count": 51,
   "id": "4de304f1-06ae-4533-b05b-3f42e5db3256",
   "metadata": {},
   "outputs": [
    {
     "name": "stdout",
     "output_type": "stream",
     "text": [
      "[[1. 0. 0. 0. 0.]\n",
      " [0. 1. 0. 0. 0.]\n",
      " [0. 0. 1. 0. 0.]\n",
      " [0. 0. 0. 1. 0.]\n",
      " [0. 0. 0. 0. 1.]]\n",
      "[[1. 0. 0.]\n",
      " [0. 1. 0.]\n",
      " [0. 0. 1.]\n",
      " [0. 0. 0.]\n",
      " [0. 0. 0.]]\n",
      "[[1 0 0]\n",
      " [0 2 0]\n",
      " [0 0 3]]\n"
     ]
    }
   ],
   "source": [
    "# eye (identity matrix)\n",
    "x = np.eye(5)\n",
    "y = np.eye(5,3) # (rows, columns)\n",
    "print(x)\n",
    "print(y)\n",
    "\n",
    "# diagonal matrix\n",
    "diag_matrix = np.diag([1,2,3])\n",
    "print(diag_matrix)"
   ]
  },
  {
   "cell_type": "code",
   "execution_count": 53,
   "id": "34783be6-5e6f-45c6-9882-eeedeae1135b",
   "metadata": {},
   "outputs": [
    {
     "name": "stdout",
     "output_type": "stream",
     "text": [
      "[  1   2   3   4 123  22  33   4   1  22  34   4]\n"
     ]
    }
   ],
   "source": [
    "# flatten a matrix\n",
    "# simple method to transform any array to 1D array\n",
    "arr = np.array([[1,2,3,4], [123,22,33,4], [1,22,34,4]])\n",
    "arr_flatten = arr.flatten()\n",
    "print(arr_flatten)"
   ]
  },
  {
   "cell_type": "code",
   "execution_count": 59,
   "id": "dc01bd5d-5d05-4c34-94a0-8b81122e0928",
   "metadata": {},
   "outputs": [
    {
     "name": "stdout",
     "output_type": "stream",
     "text": [
      "57\n",
      "[ 1 22 34]\n",
      "57\n"
     ]
    }
   ],
   "source": [
    "# trace = sum of diagonal elements\n",
    "arr = np.array([[1,2,3,4], [123,22,33,4], [1,22,34,4]])\n",
    "trace = arr.trace()\n",
    "print(trace)\n",
    "print(arr.diagonal())\n",
    "print(sum(arr.diagonal()))"
   ]
  },
  {
   "cell_type": "code",
   "execution_count": 61,
   "id": "fe557bb2-6900-4ee5-a216-a3e390c02ec8",
   "metadata": {},
   "outputs": [
    {
     "data": {
      "text/plain": [
       "array([[  1, 123,   1],\n",
       "       [  2,  22,  22],\n",
       "       [  3,  33,  34],\n",
       "       [  4,   4,   4]])"
      ]
     },
     "execution_count": 61,
     "metadata": {},
     "output_type": "execute_result"
    }
   ],
   "source": [
    "arr = np.array([[1,2,3,4], [123,22,33,4], [1,22,34,4]])\n",
    "transpose = np.transpose(arr)\n",
    "transpose"
   ]
  },
  {
   "cell_type": "code",
   "execution_count": null,
   "id": "472361d7-627d-425d-99c8-e6b73b0b33ba",
   "metadata": {},
   "outputs": [],
   "source": []
  }
 ],
 "metadata": {
  "kernelspec": {
   "display_name": "Python 3 (ipykernel)",
   "language": "python",
   "name": "python3"
  },
  "language_info": {
   "codemirror_mode": {
    "name": "ipython",
    "version": 3
   },
   "file_extension": ".py",
   "mimetype": "text/x-python",
   "name": "python",
   "nbconvert_exporter": "python",
   "pygments_lexer": "ipython3",
   "version": "3.12.3"
  }
 },
 "nbformat": 4,
 "nbformat_minor": 5
}
