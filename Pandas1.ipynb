{
 "cells": [
  {
   "cell_type": "markdown",
   "id": "9b79ba79-278d-4226-ac9c-d6723f8e3610",
   "metadata": {},
   "source": [
    "# Pandas"
   ]
  },
  {
   "cell_type": "markdown",
   "id": "0f7cfe99-81cc-47ef-9fbe-ea4227044806",
   "metadata": {},
   "source": [
    "## 1D Indexed Array"
   ]
  },
  {
   "cell_type": "code",
   "execution_count": 23,
   "id": "636b30bd-d0e7-4be7-bf4e-b7da3c92ae0e",
   "metadata": {},
   "outputs": [],
   "source": [
    "import pandas as pd\n",
    "import numpy as np"
   ]
  },
  {
   "cell_type": "code",
   "execution_count": 7,
   "id": "decfb25f-713f-4209-9b95-43b14b8112c7",
   "metadata": {},
   "outputs": [
    {
     "data": {
      "text/plain": [
       "0    0.25\n",
       "1    3.00\n",
       "2    5.00\n",
       "3    3.00\n",
       "dtype: float64"
      ]
     },
     "execution_count": 7,
     "metadata": {},
     "output_type": "execute_result"
    }
   ],
   "source": [
    "pd.Series([0.25, 3, 5, 3])\n",
    "# 1d array in pandas is called series\n",
    "# index is assigned automatically when a dataframe or series is created"
   ]
  },
  {
   "cell_type": "code",
   "execution_count": 8,
   "id": "059c3393-ed47-49ab-8c7c-2cc0aa29b339",
   "metadata": {},
   "outputs": [
    {
     "data": {
      "text/plain": [
       "a    0.25\n",
       "b    3.00\n",
       "c    5.00\n",
       "d    3.00\n",
       "dtype: float64"
      ]
     },
     "execution_count": 8,
     "metadata": {},
     "output_type": "execute_result"
    }
   ],
   "source": [
    "# manually assign indices\n",
    "pd.Series([0.25, 3, 5, 3], index=['a', 'b', 'c', 'd'])"
   ]
  },
  {
   "cell_type": "code",
   "execution_count": 16,
   "id": "e177607b-f61f-420a-bc2b-2067249af8af",
   "metadata": {},
   "outputs": [
    {
     "name": "stdout",
     "output_type": "stream",
     "text": [
      "name    Ibad-ur-Rehman\n",
      "age                 20\n",
      "dtype: object \n",
      "\n",
      "20\n"
     ]
    }
   ],
   "source": [
    "# converting dict to series\n",
    "\n",
    "dict = {\"name\" : \"Ibad-ur-Rehman\",\n",
    "        \"age\" : 20}\n",
    "\n",
    "my_series = pd.Series(dict)\n",
    "print(my_series,\"\\n\")\n",
    "print(my_series['age'])"
   ]
  },
  {
   "cell_type": "code",
   "execution_count": 17,
   "id": "b94684e8-5765-4b19-88f2-4ff97490a97a",
   "metadata": {},
   "outputs": [
    {
     "name": "stdout",
     "output_type": "stream",
     "text": [
      "0    3.25\n",
      "1    6.00\n",
      "2    8.00\n",
      "3    6.00\n",
      "dtype: float64\n"
     ]
    }
   ],
   "source": [
    "s1 = pd.Series([0.25, 3, 5, 3])\n",
    "s3 = s1+3\n",
    "print(s3)"
   ]
  },
  {
   "cell_type": "code",
   "execution_count": 22,
   "id": "2ae9ba48-dd1e-497a-ab51-ac5c2225bdf5",
   "metadata": {},
   "outputs": [
    {
     "name": "stdout",
     "output_type": "stream",
     "text": [
      "0    0.25\n",
      "1    3.00\n",
      "3    3.00\n",
      "dtype: float64\n"
     ]
    }
   ],
   "source": [
    "# some conditions\n",
    "s2 = s1[s1<=3] # print(where s1 is less than or equal to 3)\n",
    "print(s2)"
   ]
  },
  {
   "cell_type": "code",
   "execution_count": 27,
   "id": "bc23d960-cf80-44b0-a76d-62542a908d59",
   "metadata": {},
   "outputs": [
    {
     "name": "stdout",
     "output_type": "stream",
     "text": [
      "0    13\n",
      "1    23\n",
      "2    45\n",
      "3    44\n",
      "dtype: int32\n"
     ]
    }
   ],
   "source": [
    "# converting numpy array to series\n",
    "np_arr = np.array([13, 23, 45, 44])\n",
    "pandas_series = pd.Series(np_arr)\n",
    "print(pandas_series)"
   ]
  },
  {
   "cell_type": "code",
   "execution_count": 29,
   "id": "936dd2e5-7225-4c0a-8a73-91e58c31254c",
   "metadata": {},
   "outputs": [
    {
     "name": "stdout",
     "output_type": "stream",
     "text": [
      "0    3.605551\n",
      "1    4.795832\n",
      "2    6.708204\n",
      "3    6.633250\n",
      "dtype: float64\n"
     ]
    }
   ],
   "source": [
    "# we can perform numpy operations on pandas series\n",
    "sqrt = np.sqrt(pandas_series)\n",
    "print(sqrt)"
   ]
  },
  {
   "cell_type": "code",
   "execution_count": 31,
   "id": "688cb6c5-2949-4b2a-b16a-693165a80896",
   "metadata": {},
   "outputs": [
    {
     "name": "stdout",
     "output_type": "stream",
     "text": [
      "a    1\n",
      "b    2\n",
      "c    3\n",
      "d    4\n",
      "dtype: int32\n"
     ]
    }
   ],
   "source": [
    "# pd series using 2 numpy arrays 1 as index and other as values\n",
    "index = np.array(['a', 'b', 'c', 'd'])\n",
    "values = np.array([1, 2, 3, 4])\n",
    "pd_series = pd.Series(values, index=index)\n",
    "print(pd_series)\n"
   ]
  },
  {
   "cell_type": "code",
   "execution_count": 3,
   "id": "7b181fb1-aa80-4c4c-b26b-239de7dc7d43",
   "metadata": {},
   "outputs": [
    {
     "data": {
      "text/plain": [
       "4"
      ]
     },
     "execution_count": 3,
     "metadata": {},
     "output_type": "execute_result"
    }
   ],
   "source": [
    "s1 = pd.Series([1, 2, 3, 4])\n",
    "s1.size"
   ]
  },
  {
   "cell_type": "code",
   "execution_count": 7,
   "id": "923ab70f-1e46-4007-9543-6b2407631e8b",
   "metadata": {},
   "outputs": [
    {
     "name": "stdout",
     "output_type": "stream",
     "text": [
      "42.8\n",
      "67\n",
      "12\n"
     ]
    }
   ],
   "source": [
    "# mean max, and min of a pandas series\n",
    "s1 = pd.Series([12, 34, 45,56, 67])\n",
    "print(s1.mean())\n",
    "print(s1.max())\n",
    "print(s1.min())\n"
   ]
  },
  {
   "cell_type": "code",
   "execution_count": 12,
   "id": "36725930-af43-4d8e-a083-ac7d6189b4dd",
   "metadata": {},
   "outputs": [
    {
     "name": "stdout",
     "output_type": "stream",
     "text": [
      "2      5\n",
      "4      7\n",
      "1     34\n",
      "3     36\n",
      "0    122\n",
      "dtype: int64 \n",
      "\n",
      "\n",
      "[13 14 15  2  4]\n",
      "5\n"
     ]
    }
   ],
   "source": [
    "# sorted values\n",
    "s1 = pd.Series([122, 34, 5,36, 7])\n",
    "print(s1.sort_values(), '\\n\\n')\n",
    "\n",
    "# unique values(delete duplications\n",
    "s2 = pd.Series([13, 14, 14, 15, 15, 2, 4])\n",
    "print(s2.unique())\n",
    "print(s1.nunique()) # print number of elements existed ignoring repetition"
   ]
  },
  {
   "cell_type": "code",
   "execution_count": 13,
   "id": "b2163902-8be9-42bb-90f5-392479cb55ea",
   "metadata": {},
   "outputs": [
    {
     "name": "stdout",
     "output_type": "stream",
     "text": [
      "count     7.000000\n",
      "mean     11.000000\n",
      "std       5.537749\n",
      "min       2.000000\n",
      "25%       8.500000\n",
      "50%      14.000000\n",
      "75%      14.500000\n",
      "max      15.000000\n",
      "dtype: float64\n"
     ]
    }
   ],
   "source": [
    "# describe short summary of all characteristics of a series\n",
    "series = pd.Series([13, 14, 14, 15, 15, 2, 4])\n",
    "print(series.describe())"
   ]
  },
  {
   "cell_type": "code",
   "execution_count": 18,
   "id": "60dd2257-925c-42dc-9870-6a1aec33fb7d",
   "metadata": {},
   "outputs": [
    {
     "name": "stdout",
     "output_type": "stream",
     "text": [
      "  book  b_no\n",
      "0   AI    12\n",
      "1   ML    13\n"
     ]
    }
   ],
   "source": [
    "# series to dataframe\n",
    "book_name = pd.Series(['AI', 'ML'])\n",
    "book_no = pd.Series([12, 13])\n",
    "dic = {\"book\" : book_name, \"b_no\" : book_no}\n",
    "# dic = {\"book\" : ['AI', 'ML'], \"b_no\" : [12, 13]} # same\n",
    "df = pd.DataFrame(dic)\n",
    "print(df)"
   ]
  },
  {
   "cell_type": "code",
   "execution_count": 24,
   "id": "c030c262-a135-43ae-88e5-66e9631ec6a4",
   "metadata": {},
   "outputs": [
    {
     "data": {
      "text/html": [
       "<div>\n",
       "<style scoped>\n",
       "    .dataframe tbody tr th:only-of-type {\n",
       "        vertical-align: middle;\n",
       "    }\n",
       "\n",
       "    .dataframe tbody tr th {\n",
       "        vertical-align: top;\n",
       "    }\n",
       "\n",
       "    .dataframe thead th {\n",
       "        text-align: right;\n",
       "    }\n",
       "</style>\n",
       "<table border=\"1\" class=\"dataframe\">\n",
       "  <thead>\n",
       "    <tr style=\"text-align: right;\">\n",
       "      <th></th>\n",
       "      <th>book</th>\n",
       "      <th>b_no</th>\n",
       "    </tr>\n",
       "  </thead>\n",
       "  <tbody>\n",
       "    <tr>\n",
       "      <th>0</th>\n",
       "      <td>book_name1</td>\n",
       "      <td>book_no1</td>\n",
       "    </tr>\n",
       "    <tr>\n",
       "      <th>1</th>\n",
       "      <td>book_name2</td>\n",
       "      <td>book_no2</td>\n",
       "    </tr>\n",
       "    <tr>\n",
       "      <th>2</th>\n",
       "      <td>book_name3</td>\n",
       "      <td>book_no3</td>\n",
       "    </tr>\n",
       "  </tbody>\n",
       "</table>\n",
       "</div>"
      ],
      "text/plain": [
       "         book      b_no\n",
       "0  book_name1  book_no1\n",
       "1  book_name2  book_no2\n",
       "2  book_name3  book_no3"
      ]
     },
     "execution_count": 24,
     "metadata": {},
     "output_type": "execute_result"
    }
   ],
   "source": [
    "# json to df\n",
    "l = [{\"book\" : \"book_name1\", \"b_no\" : \"book_no1\"}, \n",
    "   {\"book\" : \"book_name2\", \"b_no\" : \"book_no2\"},\n",
    "   {\"b_no\" : \"book_no3\", \"book\" : \"book_name3\"}] # order doesnot matter but keys must exists for values to be in same column, if a diff format is found a new column was made\n",
    "\n",
    "df = pd.DataFrame(l)\n",
    "df"
   ]
  },
  {
   "cell_type": "code",
   "execution_count": 28,
   "id": "e8c6988f-5c99-4762-a0e4-197cd0690030",
   "metadata": {},
   "outputs": [
    {
     "name": "stdout",
     "output_type": "stream",
     "text": [
      "0 \n",
      "\n",
      " book    book_name1\n",
      "b_no      book_no1\n",
      "Name: 0, dtype: object \n",
      "\n",
      "\n",
      "\n",
      "1 \n",
      "\n",
      " book    book_name2\n",
      "b_no      book_no2\n",
      "Name: 1, dtype: object \n",
      "\n",
      "\n",
      "\n",
      "2 \n",
      "\n",
      " book    book_name3\n",
      "b_no      book_no3\n",
      "Name: 2, dtype: object \n",
      "\n",
      "\n",
      "\n"
     ]
    }
   ],
   "source": [
    "# iteration by rows\n",
    "for (row_index, row_value) in df.iterrows():\n",
    "    print(row_index, '\\n\\n', row_value, '\\n\\n\\n')\n",
    "\n",
    "#accessing data columnwise\n"
   ]
  },
  {
   "cell_type": "code",
   "execution_count": 36,
   "id": "a35c37ee-a2db-4b08-beeb-73b05b85ecf6",
   "metadata": {},
   "outputs": [
    {
     "name": "stdout",
     "output_type": "stream",
     "text": [
      "book \n",
      "\n",
      " 0    book_name1\n",
      "1    book_name2\n",
      "2    book_name3\n",
      "Name: book, dtype: object \n",
      "\n",
      "\n",
      "\n",
      "b_no \n",
      "\n",
      " 0    book_no1\n",
      "1    book_no2\n",
      "2    book_no3\n",
      "Name: b_no, dtype: object \n",
      "\n",
      "\n",
      "\n"
     ]
    }
   ],
   "source": [
    "for (col_index, col_value) in df.items():\n",
    "    print(col_index, '\\n\\n', col_value, '\\n\\n\\n')"
   ]
  },
  {
   "cell_type": "code",
   "execution_count": 46,
   "id": "8759bad1-ee32-4bbb-8789-df3252bdbcd2",
   "metadata": {},
   "outputs": [
    {
     "name": "stdout",
     "output_type": "stream",
     "text": [
      "   list  list1  list2\n",
      "0    12     20     32\n",
      "1    32     20     52\n",
      "2     2     20     22\n",
      "3     4     20     24\n",
      "   list1  list2\n",
      "0     20     32\n",
      "1     20     52\n",
      "2     20     22\n",
      "3     20     24\n"
     ]
    }
   ],
   "source": [
    "# Add rename or delete a column\n",
    "s = pd.Series([12, 32, 2, 4])\n",
    "df = pd.DataFrame(s)\n",
    "df.columns = ['list']\n",
    "df['list1'] = 20 # makes new column list1 with all entries 20\n",
    "df['list2'] = df['list'] + df['list1']\n",
    "print(df)\n",
    "del df['list'] # df.pop('list') do same work\n",
    "print(df)"
   ]
  },
  {
   "cell_type": "code",
   "execution_count": 52,
   "id": "06c96a15-2e04-4ec9-8ceb-262bef0483fc",
   "metadata": {},
   "outputs": [
    {
     "name": "stdout",
     "output_type": "stream",
     "text": [
      "   list2\n",
      "0     32\n",
      "1     52\n",
      "2     22\n",
      "3     24\n",
      "   list1  list2\n",
      "0     20     32\n",
      "1     20     52\n"
     ]
    }
   ],
   "source": [
    "# deleting using drop\n",
    "new_df1 = df.drop('list1', axis=1) # axis = 1 represents columnwise deletion operation\n",
    "print(new_df1)\n",
    "new_df2 = df.drop(index=[2,3], axis=0) # deletes row with index 2 and 3\n",
    "print(new_df2)"
   ]
  },
  {
   "cell_type": "code",
   "execution_count": 68,
   "id": "31938349-44bf-460b-8145-944ed966cab8",
   "metadata": {},
   "outputs": [
    {
     "name": "stdout",
     "output_type": "stream",
     "text": [
      "     book  b_no\n",
      "True   AI    12\n",
      "True   DS    14\n",
      "      book  b_no\n",
      "False   ML    13\n",
      "False  DSA    15\n"
     ]
    }
   ],
   "source": [
    "# boolean indexing and loc\n",
    "\n",
    "dic = {\"book\" : ['AI', 'ML', 'DS', 'DSA'], \"b_no\" : [12, 13, 14, 15]}\n",
    "df = pd.DataFrame(dic, index=[True, False, True, False])\n",
    "print(df.loc[True])\n",
    "print(df.loc[False])\n"
   ]
  },
  {
   "cell_type": "code",
   "execution_count": 74,
   "id": "33bd21c4-e20c-4946-b011-f3b72270c4b2",
   "metadata": {},
   "outputs": [
    {
     "name": "stdout",
     "output_type": "stream",
     "text": [
      "  book  b_no\n",
      "0   AI    12\n",
      "1   ML    13\n",
      "2   DS    14\n",
      "3  DSA    15\n",
      "       book  b_no\n",
      "0  Automata    12\n",
      "1       Web    13\n",
      "2        LA    14\n",
      "3       DLD    15\n",
      "       book  b_no\n",
      "0        AI    12\n",
      "1        ML    13\n",
      "2        DS    14\n",
      "3       DSA    15\n",
      "0  Automata    12\n",
      "1       Web    13\n",
      "2        LA    14\n",
      "3       DLD    15\n"
     ]
    }
   ],
   "source": [
    "# concatenating\n",
    "dic1 = {\"book\" : ['AI', 'ML', 'DS', 'DSA'], \"b_no\" : [12, 13, 14, 15]}\n",
    "df = pd.DataFrame(dic)\n",
    "print(df)\n",
    "\n",
    "dic1 = {\"book\" : ['Automata', 'Web', 'LA', 'DLD'], \"b_no\" : [12, 13, 14, 15]}\n",
    "df2 = pd.DataFrame(dic1)\n",
    "print(df2)\n",
    "\n",
    "df3 = pd.concat([df, df2])\n",
    "print(df3)"
   ]
  },
  {
   "cell_type": "code",
   "execution_count": null,
   "id": "69121674-8b46-434f-bbda-f389bb22272c",
   "metadata": {},
   "outputs": [],
   "source": []
  }
 ],
 "metadata": {
  "kernelspec": {
   "display_name": "Python 3 (ipykernel)",
   "language": "python",
   "name": "python3"
  },
  "language_info": {
   "codemirror_mode": {
    "name": "ipython",
    "version": 3
   },
   "file_extension": ".py",
   "mimetype": "text/x-python",
   "name": "python",
   "nbconvert_exporter": "python",
   "pygments_lexer": "ipython3",
   "version": "3.12.3"
  }
 },
 "nbformat": 4,
 "nbformat_minor": 5
}
